{
 "cells": [
  {
   "cell_type": "markdown",
   "metadata": {},
   "source": [
    "# Análise de Dados#\n",
    "## Covid-19 por munícipios."
   ]
  },
  {
   "cell_type": "markdown",
   "metadata": {},
   "source": [
    "### Trabalhando com Arrays "
   ]
  },
  {
   "cell_type": "code",
   "execution_count": 106,
   "metadata": {},
   "outputs": [],
   "source": [
    "# Importando bibliotecas para visualização descritiva de dados(gráficos).\n",
    "# Pandas - biblioteca utilizada para análise e manipulação de dados, permitindo \n",
    "# trabalhar de forma rápida e eficiente com arquivos do tipo csv,excel,txt,etc.\n",
    "# Numpy - Permite trabalhar com vetores, arranjos e matrizes.\n",
    "# Matplotlib - Bilioteca de gráficos 2D.\n",
    "\n",
    "import numpy as np\n",
    "import seaborn as sns\n",
    "import matplotlib.pyplot as plt\n",
    "import os\n",
    "import pandas as pd\n"
   ]
  },
  {
   "cell_type": "code",
   "execution_count": 13,
   "metadata": {
    "scrolled": true
   },
   "outputs": [
    {
     "data": {
      "text/html": [
       "<div>\n",
       "<style scoped>\n",
       "    .dataframe tbody tr th:only-of-type {\n",
       "        vertical-align: middle;\n",
       "    }\n",
       "\n",
       "    .dataframe tbody tr th {\n",
       "        vertical-align: top;\n",
       "    }\n",
       "\n",
       "    .dataframe thead th {\n",
       "        text-align: right;\n",
       "    }\n",
       "</style>\n",
       "<table border=\"1\" class=\"dataframe\">\n",
       "  <thead>\n",
       "    <tr style=\"text-align: right;\">\n",
       "      <th></th>\n",
       "      <th>date</th>\n",
       "      <th>state</th>\n",
       "      <th>city</th>\n",
       "      <th>place_type</th>\n",
       "      <th>confirmed</th>\n",
       "      <th>deaths</th>\n",
       "      <th>order_for_place</th>\n",
       "      <th>is_last</th>\n",
       "      <th>estimated_population_2019</th>\n",
       "      <th>city_ibge_code</th>\n",
       "      <th>confirmed_per_100k_inhabitants</th>\n",
       "      <th>death_rate</th>\n",
       "    </tr>\n",
       "  </thead>\n",
       "  <tbody>\n",
       "    <tr>\n",
       "      <th>0</th>\n",
       "      <td>2020-08-29</td>\n",
       "      <td>AP</td>\n",
       "      <td>NaN</td>\n",
       "      <td>state</td>\n",
       "      <td>42771</td>\n",
       "      <td>659</td>\n",
       "      <td>162</td>\n",
       "      <td>True</td>\n",
       "      <td>845731.0</td>\n",
       "      <td>16.0</td>\n",
       "      <td>5057.28181</td>\n",
       "      <td>0.0154</td>\n",
       "    </tr>\n",
       "    <tr>\n",
       "      <th>1</th>\n",
       "      <td>2020-08-28</td>\n",
       "      <td>AP</td>\n",
       "      <td>NaN</td>\n",
       "      <td>state</td>\n",
       "      <td>42625</td>\n",
       "      <td>657</td>\n",
       "      <td>161</td>\n",
       "      <td>False</td>\n",
       "      <td>845731.0</td>\n",
       "      <td>16.0</td>\n",
       "      <td>5040.01863</td>\n",
       "      <td>0.0154</td>\n",
       "    </tr>\n",
       "    <tr>\n",
       "      <th>2</th>\n",
       "      <td>2020-08-27</td>\n",
       "      <td>AP</td>\n",
       "      <td>NaN</td>\n",
       "      <td>state</td>\n",
       "      <td>42285</td>\n",
       "      <td>652</td>\n",
       "      <td>160</td>\n",
       "      <td>False</td>\n",
       "      <td>845731.0</td>\n",
       "      <td>16.0</td>\n",
       "      <td>4999.81673</td>\n",
       "      <td>0.0154</td>\n",
       "    </tr>\n",
       "    <tr>\n",
       "      <th>3</th>\n",
       "      <td>2020-08-26</td>\n",
       "      <td>AP</td>\n",
       "      <td>NaN</td>\n",
       "      <td>state</td>\n",
       "      <td>41981</td>\n",
       "      <td>647</td>\n",
       "      <td>159</td>\n",
       "      <td>False</td>\n",
       "      <td>845731.0</td>\n",
       "      <td>16.0</td>\n",
       "      <td>4963.87149</td>\n",
       "      <td>0.0154</td>\n",
       "    </tr>\n",
       "    <tr>\n",
       "      <th>4</th>\n",
       "      <td>2020-08-25</td>\n",
       "      <td>AP</td>\n",
       "      <td>NaN</td>\n",
       "      <td>state</td>\n",
       "      <td>41553</td>\n",
       "      <td>642</td>\n",
       "      <td>158</td>\n",
       "      <td>False</td>\n",
       "      <td>845731.0</td>\n",
       "      <td>16.0</td>\n",
       "      <td>4913.26438</td>\n",
       "      <td>0.0155</td>\n",
       "    </tr>\n",
       "    <tr>\n",
       "      <th>...</th>\n",
       "      <td>...</td>\n",
       "      <td>...</td>\n",
       "      <td>...</td>\n",
       "      <td>...</td>\n",
       "      <td>...</td>\n",
       "      <td>...</td>\n",
       "      <td>...</td>\n",
       "      <td>...</td>\n",
       "      <td>...</td>\n",
       "      <td>...</td>\n",
       "      <td>...</td>\n",
       "      <td>...</td>\n",
       "    </tr>\n",
       "    <tr>\n",
       "      <th>598440</th>\n",
       "      <td>2020-06-23</td>\n",
       "      <td>SP</td>\n",
       "      <td>Óleo</td>\n",
       "      <td>city</td>\n",
       "      <td>1</td>\n",
       "      <td>0</td>\n",
       "      <td>5</td>\n",
       "      <td>False</td>\n",
       "      <td>2496.0</td>\n",
       "      <td>3533809.0</td>\n",
       "      <td>40.06410</td>\n",
       "      <td>0.0000</td>\n",
       "    </tr>\n",
       "    <tr>\n",
       "      <th>598441</th>\n",
       "      <td>2020-06-22</td>\n",
       "      <td>SP</td>\n",
       "      <td>Óleo</td>\n",
       "      <td>city</td>\n",
       "      <td>1</td>\n",
       "      <td>0</td>\n",
       "      <td>4</td>\n",
       "      <td>False</td>\n",
       "      <td>2496.0</td>\n",
       "      <td>3533809.0</td>\n",
       "      <td>40.06410</td>\n",
       "      <td>0.0000</td>\n",
       "    </tr>\n",
       "    <tr>\n",
       "      <th>598442</th>\n",
       "      <td>2020-06-21</td>\n",
       "      <td>SP</td>\n",
       "      <td>Óleo</td>\n",
       "      <td>city</td>\n",
       "      <td>1</td>\n",
       "      <td>0</td>\n",
       "      <td>3</td>\n",
       "      <td>False</td>\n",
       "      <td>2496.0</td>\n",
       "      <td>3533809.0</td>\n",
       "      <td>40.06410</td>\n",
       "      <td>0.0000</td>\n",
       "    </tr>\n",
       "    <tr>\n",
       "      <th>598443</th>\n",
       "      <td>2020-06-20</td>\n",
       "      <td>SP</td>\n",
       "      <td>Óleo</td>\n",
       "      <td>city</td>\n",
       "      <td>1</td>\n",
       "      <td>0</td>\n",
       "      <td>2</td>\n",
       "      <td>False</td>\n",
       "      <td>2496.0</td>\n",
       "      <td>3533809.0</td>\n",
       "      <td>40.06410</td>\n",
       "      <td>0.0000</td>\n",
       "    </tr>\n",
       "    <tr>\n",
       "      <th>598444</th>\n",
       "      <td>2020-06-19</td>\n",
       "      <td>SP</td>\n",
       "      <td>Óleo</td>\n",
       "      <td>city</td>\n",
       "      <td>1</td>\n",
       "      <td>0</td>\n",
       "      <td>1</td>\n",
       "      <td>False</td>\n",
       "      <td>2496.0</td>\n",
       "      <td>3533809.0</td>\n",
       "      <td>40.06410</td>\n",
       "      <td>0.0000</td>\n",
       "    </tr>\n",
       "  </tbody>\n",
       "</table>\n",
       "<p>598445 rows × 12 columns</p>\n",
       "</div>"
      ],
      "text/plain": [
       "              date state  city place_type  confirmed  deaths  order_for_place  \\\n",
       "0       2020-08-29    AP   NaN      state      42771     659              162   \n",
       "1       2020-08-28    AP   NaN      state      42625     657              161   \n",
       "2       2020-08-27    AP   NaN      state      42285     652              160   \n",
       "3       2020-08-26    AP   NaN      state      41981     647              159   \n",
       "4       2020-08-25    AP   NaN      state      41553     642              158   \n",
       "...            ...   ...   ...        ...        ...     ...              ...   \n",
       "598440  2020-06-23    SP  Óleo       city          1       0                5   \n",
       "598441  2020-06-22    SP  Óleo       city          1       0                4   \n",
       "598442  2020-06-21    SP  Óleo       city          1       0                3   \n",
       "598443  2020-06-20    SP  Óleo       city          1       0                2   \n",
       "598444  2020-06-19    SP  Óleo       city          1       0                1   \n",
       "\n",
       "        is_last  estimated_population_2019  city_ibge_code  \\\n",
       "0          True                   845731.0            16.0   \n",
       "1         False                   845731.0            16.0   \n",
       "2         False                   845731.0            16.0   \n",
       "3         False                   845731.0            16.0   \n",
       "4         False                   845731.0            16.0   \n",
       "...         ...                        ...             ...   \n",
       "598440    False                     2496.0       3533809.0   \n",
       "598441    False                     2496.0       3533809.0   \n",
       "598442    False                     2496.0       3533809.0   \n",
       "598443    False                     2496.0       3533809.0   \n",
       "598444    False                     2496.0       3533809.0   \n",
       "\n",
       "        confirmed_per_100k_inhabitants  death_rate  \n",
       "0                           5057.28181      0.0154  \n",
       "1                           5040.01863      0.0154  \n",
       "2                           4999.81673      0.0154  \n",
       "3                           4963.87149      0.0154  \n",
       "4                           4913.26438      0.0155  \n",
       "...                                ...         ...  \n",
       "598440                        40.06410      0.0000  \n",
       "598441                        40.06410      0.0000  \n",
       "598442                        40.06410      0.0000  \n",
       "598443                        40.06410      0.0000  \n",
       "598444                        40.06410      0.0000  \n",
       "\n",
       "[598445 rows x 12 columns]"
      ]
     },
     "execution_count": 13,
     "metadata": {},
     "output_type": "execute_result"
    }
   ],
   "source": [
    "df = pd.read_csv('caso.csv')\n",
    "df"
   ]
  },
  {
   "cell_type": "code",
   "execution_count": 14,
   "metadata": {},
   "outputs": [
    {
     "data": {
      "text/html": [
       "<div>\n",
       "<style scoped>\n",
       "    .dataframe tbody tr th:only-of-type {\n",
       "        vertical-align: middle;\n",
       "    }\n",
       "\n",
       "    .dataframe tbody tr th {\n",
       "        vertical-align: top;\n",
       "    }\n",
       "\n",
       "    .dataframe thead th {\n",
       "        text-align: right;\n",
       "    }\n",
       "</style>\n",
       "<table border=\"1\" class=\"dataframe\">\n",
       "  <thead>\n",
       "    <tr style=\"text-align: right;\">\n",
       "      <th></th>\n",
       "      <th>date</th>\n",
       "      <th>state</th>\n",
       "      <th>city</th>\n",
       "      <th>place_type</th>\n",
       "      <th>confirmed</th>\n",
       "      <th>deaths</th>\n",
       "      <th>order_for_place</th>\n",
       "      <th>is_last</th>\n",
       "      <th>estimated_population_2019</th>\n",
       "      <th>city_ibge_code</th>\n",
       "      <th>confirmed_per_100k_inhabitants</th>\n",
       "      <th>death_rate</th>\n",
       "    </tr>\n",
       "  </thead>\n",
       "  <tbody>\n",
       "    <tr>\n",
       "      <th>0</th>\n",
       "      <td>2020-08-29</td>\n",
       "      <td>AP</td>\n",
       "      <td>NaN</td>\n",
       "      <td>state</td>\n",
       "      <td>42771</td>\n",
       "      <td>659</td>\n",
       "      <td>162</td>\n",
       "      <td>True</td>\n",
       "      <td>845731.0</td>\n",
       "      <td>16.0</td>\n",
       "      <td>5057.28181</td>\n",
       "      <td>0.0154</td>\n",
       "    </tr>\n",
       "    <tr>\n",
       "      <th>1</th>\n",
       "      <td>2020-08-28</td>\n",
       "      <td>AP</td>\n",
       "      <td>NaN</td>\n",
       "      <td>state</td>\n",
       "      <td>42625</td>\n",
       "      <td>657</td>\n",
       "      <td>161</td>\n",
       "      <td>False</td>\n",
       "      <td>845731.0</td>\n",
       "      <td>16.0</td>\n",
       "      <td>5040.01863</td>\n",
       "      <td>0.0154</td>\n",
       "    </tr>\n",
       "    <tr>\n",
       "      <th>2</th>\n",
       "      <td>2020-08-27</td>\n",
       "      <td>AP</td>\n",
       "      <td>NaN</td>\n",
       "      <td>state</td>\n",
       "      <td>42285</td>\n",
       "      <td>652</td>\n",
       "      <td>160</td>\n",
       "      <td>False</td>\n",
       "      <td>845731.0</td>\n",
       "      <td>16.0</td>\n",
       "      <td>4999.81673</td>\n",
       "      <td>0.0154</td>\n",
       "    </tr>\n",
       "    <tr>\n",
       "      <th>3</th>\n",
       "      <td>2020-08-26</td>\n",
       "      <td>AP</td>\n",
       "      <td>NaN</td>\n",
       "      <td>state</td>\n",
       "      <td>41981</td>\n",
       "      <td>647</td>\n",
       "      <td>159</td>\n",
       "      <td>False</td>\n",
       "      <td>845731.0</td>\n",
       "      <td>16.0</td>\n",
       "      <td>4963.87149</td>\n",
       "      <td>0.0154</td>\n",
       "    </tr>\n",
       "    <tr>\n",
       "      <th>4</th>\n",
       "      <td>2020-08-25</td>\n",
       "      <td>AP</td>\n",
       "      <td>NaN</td>\n",
       "      <td>state</td>\n",
       "      <td>41553</td>\n",
       "      <td>642</td>\n",
       "      <td>158</td>\n",
       "      <td>False</td>\n",
       "      <td>845731.0</td>\n",
       "      <td>16.0</td>\n",
       "      <td>4913.26438</td>\n",
       "      <td>0.0155</td>\n",
       "    </tr>\n",
       "  </tbody>\n",
       "</table>\n",
       "</div>"
      ],
      "text/plain": [
       "         date state city place_type  confirmed  deaths  order_for_place  \\\n",
       "0  2020-08-29    AP  NaN      state      42771     659              162   \n",
       "1  2020-08-28    AP  NaN      state      42625     657              161   \n",
       "2  2020-08-27    AP  NaN      state      42285     652              160   \n",
       "3  2020-08-26    AP  NaN      state      41981     647              159   \n",
       "4  2020-08-25    AP  NaN      state      41553     642              158   \n",
       "\n",
       "   is_last  estimated_population_2019  city_ibge_code  \\\n",
       "0     True                   845731.0            16.0   \n",
       "1    False                   845731.0            16.0   \n",
       "2    False                   845731.0            16.0   \n",
       "3    False                   845731.0            16.0   \n",
       "4    False                   845731.0            16.0   \n",
       "\n",
       "   confirmed_per_100k_inhabitants  death_rate  \n",
       "0                      5057.28181      0.0154  \n",
       "1                      5040.01863      0.0154  \n",
       "2                      4999.81673      0.0154  \n",
       "3                      4963.87149      0.0154  \n",
       "4                      4913.26438      0.0155  "
      ]
     },
     "execution_count": 14,
     "metadata": {},
     "output_type": "execute_result"
    }
   ],
   "source": [
    "df.head()\n"
   ]
  },
  {
   "cell_type": "markdown",
   "metadata": {},
   "source": [
    "### Informações Gerais sobre a Base de Dados\n"
   ]
  },
  {
   "cell_type": "code",
   "execution_count": 15,
   "metadata": {},
   "outputs": [
    {
     "data": {
      "text/plain": [
       "date                               object\n",
       "state                              object\n",
       "city                               object\n",
       "place_type                         object\n",
       "confirmed                           int64\n",
       "deaths                              int64\n",
       "order_for_place                     int64\n",
       "is_last                              bool\n",
       "estimated_population_2019         float64\n",
       "city_ibge_code                    float64\n",
       "confirmed_per_100k_inhabitants    float64\n",
       "death_rate                        float64\n",
       "dtype: object"
      ]
     },
     "execution_count": 15,
     "metadata": {},
     "output_type": "execute_result"
    }
   ],
   "source": [
    "df.dtypes"
   ]
  },
  {
   "cell_type": "code",
   "execution_count": 64,
   "metadata": {},
   "outputs": [],
   "source": [
    "tipos_de_dados = pd.DataFrame(df.dtypes, columns = ['Tipos de Dados'])"
   ]
  },
  {
   "cell_type": "code",
   "execution_count": 68,
   "metadata": {},
   "outputs": [],
   "source": [
    "tipos_de_dados.columns.df = 'Variaveis'"
   ]
  },
  {
   "cell_type": "code",
   "execution_count": 69,
   "metadata": {},
   "outputs": [
    {
     "data": {
      "text/html": [
       "<div>\n",
       "<style scoped>\n",
       "    .dataframe tbody tr th:only-of-type {\n",
       "        vertical-align: middle;\n",
       "    }\n",
       "\n",
       "    .dataframe tbody tr th {\n",
       "        vertical-align: top;\n",
       "    }\n",
       "\n",
       "    .dataframe thead th {\n",
       "        text-align: right;\n",
       "    }\n",
       "</style>\n",
       "<table border=\"1\" class=\"dataframe\">\n",
       "  <thead>\n",
       "    <tr style=\"text-align: right;\">\n",
       "      <th></th>\n",
       "      <th>Tipos de Dados</th>\n",
       "    </tr>\n",
       "  </thead>\n",
       "  <tbody>\n",
       "    <tr>\n",
       "      <th>date</th>\n",
       "      <td>object</td>\n",
       "    </tr>\n",
       "    <tr>\n",
       "      <th>state</th>\n",
       "      <td>object</td>\n",
       "    </tr>\n",
       "    <tr>\n",
       "      <th>city</th>\n",
       "      <td>object</td>\n",
       "    </tr>\n",
       "    <tr>\n",
       "      <th>place_type</th>\n",
       "      <td>object</td>\n",
       "    </tr>\n",
       "    <tr>\n",
       "      <th>confirmed</th>\n",
       "      <td>int64</td>\n",
       "    </tr>\n",
       "    <tr>\n",
       "      <th>deaths</th>\n",
       "      <td>int64</td>\n",
       "    </tr>\n",
       "    <tr>\n",
       "      <th>order_for_place</th>\n",
       "      <td>int64</td>\n",
       "    </tr>\n",
       "    <tr>\n",
       "      <th>is_last</th>\n",
       "      <td>bool</td>\n",
       "    </tr>\n",
       "    <tr>\n",
       "      <th>estimated_population_2019</th>\n",
       "      <td>float64</td>\n",
       "    </tr>\n",
       "    <tr>\n",
       "      <th>city_ibge_code</th>\n",
       "      <td>float64</td>\n",
       "    </tr>\n",
       "    <tr>\n",
       "      <th>confirmed_per_100k_inhabitants</th>\n",
       "      <td>float64</td>\n",
       "    </tr>\n",
       "    <tr>\n",
       "      <th>death_rate</th>\n",
       "      <td>float64</td>\n",
       "    </tr>\n",
       "  </tbody>\n",
       "</table>\n",
       "</div>"
      ],
      "text/plain": [
       "                               Tipos de Dados\n",
       "date                                   object\n",
       "state                                  object\n",
       "city                                   object\n",
       "place_type                             object\n",
       "confirmed                               int64\n",
       "deaths                                  int64\n",
       "order_for_place                         int64\n",
       "is_last                                  bool\n",
       "estimated_population_2019             float64\n",
       "city_ibge_code                        float64\n",
       "confirmed_per_100k_inhabitants        float64\n",
       "death_rate                            float64"
      ]
     },
     "execution_count": 69,
     "metadata": {},
     "output_type": "execute_result"
    }
   ],
   "source": [
    "tipos_de_dados"
   ]
  },
  {
   "cell_type": "code",
   "execution_count": 70,
   "metadata": {},
   "outputs": [
    {
     "data": {
      "text/plain": [
       "(598445, 12)"
      ]
     },
     "execution_count": 70,
     "metadata": {},
     "output_type": "execute_result"
    }
   ],
   "source": [
    "df.shape"
   ]
  },
  {
   "cell_type": "code",
   "execution_count": 71,
   "metadata": {},
   "outputs": [
    {
     "data": {
      "text/plain": [
       "598445"
      ]
     },
     "execution_count": 71,
     "metadata": {},
     "output_type": "execute_result"
    }
   ],
   "source": [
    "df.shape[0]"
   ]
  },
  {
   "cell_type": "code",
   "execution_count": 72,
   "metadata": {},
   "outputs": [
    {
     "data": {
      "text/plain": [
       "12"
      ]
     },
     "execution_count": 72,
     "metadata": {},
     "output_type": "execute_result"
    }
   ],
   "source": [
    "df.shape[1]"
   ]
  },
  {
   "cell_type": "code",
   "execution_count": 73,
   "metadata": {},
   "outputs": [
    {
     "name": "stdout",
     "output_type": "stream",
     "text": [
      "A base de dados apresenta 598445 registros e 12 variaveis\n"
     ]
    }
   ],
   "source": [
    "print('A base de dados apresenta {} registros e {} variaveis'.format(df.shape[0], df.shape[1]))"
   ]
  },
  {
   "cell_type": "code",
   "execution_count": 87,
   "metadata": {},
   "outputs": [
    {
     "data": {
      "text/html": [
       "<div>\n",
       "<style scoped>\n",
       "    .dataframe tbody tr th:only-of-type {\n",
       "        vertical-align: middle;\n",
       "    }\n",
       "\n",
       "    .dataframe tbody tr th {\n",
       "        vertical-align: top;\n",
       "    }\n",
       "\n",
       "    .dataframe thead th {\n",
       "        text-align: right;\n",
       "    }\n",
       "</style>\n",
       "<table border=\"1\" class=\"dataframe\">\n",
       "  <thead>\n",
       "    <tr style=\"text-align: right;\">\n",
       "      <th></th>\n",
       "      <th>state</th>\n",
       "      <th>city</th>\n",
       "      <th>place_type</th>\n",
       "    </tr>\n",
       "  </thead>\n",
       "  <tbody>\n",
       "    <tr>\n",
       "      <th>0</th>\n",
       "      <td>SP</td>\n",
       "      <td>São Paulo</td>\n",
       "      <td>city</td>\n",
       "    </tr>\n",
       "  </tbody>\n",
       "</table>\n",
       "</div>"
      ],
      "text/plain": [
       "  state       city place_type\n",
       "0    SP  São Paulo       city"
      ]
     },
     "execution_count": 87,
     "metadata": {},
     "output_type": "execute_result"
    }
   ],
   "source": [
    "import pandas as pd\n",
    "data = [['SP', 'São Paulo', 'city']]\n",
    "\n",
    "df = pd.DataFrame(data, \n",
    "        columns = {'state': 'SP', 'city': 'São Paulo', 'place_type': 'city'})\n",
    "df"
   ]
  },
  {
   "cell_type": "code",
   "execution_count": 19,
   "metadata": {},
   "outputs": [
    {
     "data": {
      "text/html": [
       "<div>\n",
       "<style scoped>\n",
       "    .dataframe tbody tr th:only-of-type {\n",
       "        vertical-align: middle;\n",
       "    }\n",
       "\n",
       "    .dataframe tbody tr th {\n",
       "        vertical-align: top;\n",
       "    }\n",
       "\n",
       "    .dataframe thead th {\n",
       "        text-align: right;\n",
       "    }\n",
       "</style>\n",
       "<table border=\"1\" class=\"dataframe\">\n",
       "  <thead>\n",
       "    <tr style=\"text-align: right;\">\n",
       "      <th></th>\n",
       "      <th>confirmed</th>\n",
       "      <th>deaths</th>\n",
       "      <th>order_for_place</th>\n",
       "      <th>estimated_population_2019</th>\n",
       "      <th>city_ibge_code</th>\n",
       "      <th>confirmed_per_100k_inhabitants</th>\n",
       "      <th>death_rate</th>\n",
       "    </tr>\n",
       "  </thead>\n",
       "  <tbody>\n",
       "    <tr>\n",
       "      <th>count</th>\n",
       "      <td>598445.000000</td>\n",
       "      <td>598445.000000</td>\n",
       "      <td>598445.000000</td>\n",
       "      <td>5.958700e+05</td>\n",
       "      <td>5.958700e+05</td>\n",
       "      <td>583913.000000</td>\n",
       "      <td>598445.000000</td>\n",
       "    </tr>\n",
       "    <tr>\n",
       "      <th>mean</th>\n",
       "      <td>636.400648</td>\n",
       "      <td>24.228405</td>\n",
       "      <td>58.312530</td>\n",
       "      <td>1.108194e+05</td>\n",
       "      <td>3.181421e+06</td>\n",
       "      <td>577.128660</td>\n",
       "      <td>0.041450</td>\n",
       "    </tr>\n",
       "    <tr>\n",
       "      <th>std</th>\n",
       "      <td>8188.543290</td>\n",
       "      <td>363.500298</td>\n",
       "      <td>36.961645</td>\n",
       "      <td>1.106435e+06</td>\n",
       "      <td>1.013802e+06</td>\n",
       "      <td>910.950917</td>\n",
       "      <td>0.113566</td>\n",
       "    </tr>\n",
       "    <tr>\n",
       "      <th>min</th>\n",
       "      <td>0.000000</td>\n",
       "      <td>0.000000</td>\n",
       "      <td>1.000000</td>\n",
       "      <td>7.810000e+02</td>\n",
       "      <td>1.100000e+01</td>\n",
       "      <td>0.002180</td>\n",
       "      <td>0.000000</td>\n",
       "    </tr>\n",
       "    <tr>\n",
       "      <th>25%</th>\n",
       "      <td>5.000000</td>\n",
       "      <td>0.000000</td>\n",
       "      <td>27.000000</td>\n",
       "      <td>6.627000e+03</td>\n",
       "      <td>2.502805e+06</td>\n",
       "      <td>47.852610</td>\n",
       "      <td>0.000000</td>\n",
       "    </tr>\n",
       "    <tr>\n",
       "      <th>50%</th>\n",
       "      <td>27.000000</td>\n",
       "      <td>1.000000</td>\n",
       "      <td>55.000000</td>\n",
       "      <td>1.470100e+04</td>\n",
       "      <td>3.140209e+06</td>\n",
       "      <td>227.724520</td>\n",
       "      <td>0.008200</td>\n",
       "    </tr>\n",
       "    <tr>\n",
       "      <th>75%</th>\n",
       "      <td>133.000000</td>\n",
       "      <td>3.000000</td>\n",
       "      <td>85.000000</td>\n",
       "      <td>3.294100e+04</td>\n",
       "      <td>4.111258e+06</td>\n",
       "      <td>739.536800</td>\n",
       "      <td>0.037400</td>\n",
       "    </tr>\n",
       "    <tr>\n",
       "      <th>max</th>\n",
       "      <td>801422.000000</td>\n",
       "      <td>29944.000000</td>\n",
       "      <td>185.000000</td>\n",
       "      <td>4.591905e+07</td>\n",
       "      <td>5.300108e+06</td>\n",
       "      <td>16385.483680</td>\n",
       "      <td>1.000000</td>\n",
       "    </tr>\n",
       "  </tbody>\n",
       "</table>\n",
       "</div>"
      ],
      "text/plain": [
       "           confirmed         deaths  order_for_place  \\\n",
       "count  598445.000000  598445.000000    598445.000000   \n",
       "mean      636.400648      24.228405        58.312530   \n",
       "std      8188.543290     363.500298        36.961645   \n",
       "min         0.000000       0.000000         1.000000   \n",
       "25%         5.000000       0.000000        27.000000   \n",
       "50%        27.000000       1.000000        55.000000   \n",
       "75%       133.000000       3.000000        85.000000   \n",
       "max    801422.000000   29944.000000       185.000000   \n",
       "\n",
       "       estimated_population_2019  city_ibge_code  \\\n",
       "count               5.958700e+05    5.958700e+05   \n",
       "mean                1.108194e+05    3.181421e+06   \n",
       "std                 1.106435e+06    1.013802e+06   \n",
       "min                 7.810000e+02    1.100000e+01   \n",
       "25%                 6.627000e+03    2.502805e+06   \n",
       "50%                 1.470100e+04    3.140209e+06   \n",
       "75%                 3.294100e+04    4.111258e+06   \n",
       "max                 4.591905e+07    5.300108e+06   \n",
       "\n",
       "       confirmed_per_100k_inhabitants     death_rate  \n",
       "count                   583913.000000  598445.000000  \n",
       "mean                       577.128660       0.041450  \n",
       "std                        910.950917       0.113566  \n",
       "min                          0.002180       0.000000  \n",
       "25%                         47.852610       0.000000  \n",
       "50%                        227.724520       0.008200  \n",
       "75%                        739.536800       0.037400  \n",
       "max                      16385.483680       1.000000  "
      ]
     },
     "execution_count": 19,
     "metadata": {},
     "output_type": "execute_result"
    }
   ],
   "source": [
    "\n",
    "df.describe()"
   ]
  },
  {
   "cell_type": "code",
   "execution_count": 35,
   "metadata": {},
   "outputs": [],
   "source": [
    "import pandas as pd\n",
    "df = pd.read_csv('caso.csv')\n",
    "saved_column = df.state"
   ]
  },
  {
   "cell_type": "markdown",
   "metadata": {},
   "source": [
    "### Calculando a Tendência Central de uma distribuição, variáveis:\n",
    "### confirmed, confirmed_per_100k_inhabitants, death_rate e deaths\n"
   ]
  },
  {
   "cell_type": "code",
   "execution_count": 89,
   "metadata": {},
   "outputs": [
    {
     "data": {
      "text/plain": [
       "state         0.75\n",
       "city          0.75\n",
       "place_type    0.75\n",
       "dtype: float64"
      ]
     },
     "execution_count": 89,
     "metadata": {},
     "output_type": "execute_result"
    }
   ],
   "source": [
    "tendencia_central = df.describe()\n",
    "tendencia_central.mean()"
   ]
  },
  {
   "cell_type": "code",
   "execution_count": 111,
   "metadata": {},
   "outputs": [],
   "source": [
    "import matplotlib.pyplot as plt\n",
    "#df = sns.load_dataset(\"df\")\n",
    "#sns.relplot(x=\"confirmed_per_100k_inhabitants\", y=\"confirmed\", data=df);"
   ]
  },
  {
   "cell_type": "code",
   "execution_count": 114,
   "metadata": {},
   "outputs": [
    {
     "data": {
      "text/plain": [
       "total_bill    80.578006\n",
       "tip           85.109532\n",
       "size          85.396862\n",
       "dtype: float64"
      ]
     },
     "execution_count": 114,
     "metadata": {},
     "output_type": "execute_result"
    }
   ],
   "source": [
    "std = df.describe()\n",
    "std.std()"
   ]
  },
  {
   "cell_type": "code",
   "execution_count": 126,
   "metadata": {},
   "outputs": [
    {
     "ename": "NameError",
     "evalue": "name 'confirmed' is not defined",
     "output_type": "error",
     "traceback": [
      "\u001b[1;31m---------------------------------------------------------------------------\u001b[0m",
      "\u001b[1;31mNameError\u001b[0m                                 Traceback (most recent call last)",
      "\u001b[1;32m<ipython-input-126-2e1afb4a5ce2>\u001b[0m in \u001b[0;36m<module>\u001b[1;34m\u001b[0m\n\u001b[0;32m      1\u001b[0m \u001b[1;32mimport\u001b[0m \u001b[0mmatplotlib\u001b[0m\u001b[1;33m.\u001b[0m\u001b[0mpyplot\u001b[0m\u001b[1;33m\u001b[0m\u001b[1;33m\u001b[0m\u001b[0m\n\u001b[1;32m----> 2\u001b[1;33m \u001b[0mmatplotlib\u001b[0m\u001b[1;33m.\u001b[0m\u001b[0mpyplot\u001b[0m\u001b[1;33m.\u001b[0m\u001b[0mplot\u001b[0m\u001b[1;33m(\u001b[0m\u001b[0mconfirmed\u001b[0m\u001b[1;33m,\u001b[0m \u001b[0mplace_type\u001b[0m\u001b[1;33m)\u001b[0m\u001b[1;33m\u001b[0m\u001b[1;33m\u001b[0m\u001b[0m\n\u001b[0m",
      "\u001b[1;31mNameError\u001b[0m: name 'confirmed' is not defined"
     ]
    }
   ],
   "source": [
    "matplotlib.pyplot.show()"
   ]
  },
  {
   "cell_type": "code",
   "execution_count": null,
   "metadata": {},
   "outputs": [],
   "source": []
  }
 ],
 "metadata": {
  "kernelspec": {
   "display_name": "Python 3",
   "language": "python",
   "name": "python3"
  },
  "language_info": {
   "codemirror_mode": {
    "name": "ipython",
    "version": 3
   },
   "file_extension": ".py",
   "mimetype": "text/x-python",
   "name": "python",
   "nbconvert_exporter": "python",
   "pygments_lexer": "ipython3",
   "version": "3.7.6"
  }
 },
 "nbformat": 4,
 "nbformat_minor": 4
}
